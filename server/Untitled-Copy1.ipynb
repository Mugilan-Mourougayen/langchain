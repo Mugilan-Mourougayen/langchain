{
 "cells": [
  {
   "cell_type": "code",
   "execution_count": 1,
   "id": "b52b22b9",
   "metadata": {},
   "outputs": [],
   "source": [
    "import pandas as pd\n",
    "\n",
    "xlsx_file_path = 'Book1.xlsx'\n",
    "\n",
    "df = pd.read_excel(xlsx_file_path)\n",
    "\n",
    "blank_b_values = df[df['Nature'].isnull() | df['Nature'].eq('')]\n",
    "\n"
   ]
  },
  {
   "cell_type": "code",
   "execution_count": 2,
   "id": "a4a40101",
   "metadata": {},
   "outputs": [],
   "source": [
    "distinct_a_values_with_blank_b = blank_b_values['Libellé produit'].drop_duplicates()\n",
    "\n"
   ]
  },
  {
   "cell_type": "code",
   "execution_count": 11,
   "id": "1310fd85",
   "metadata": {},
   "outputs": [
    {
     "ename": "SyntaxError",
     "evalue": "positional argument follows keyword argument (570055260.py, line 8)",
     "output_type": "error",
     "traceback": [
      "\u001b[1;36m  Input \u001b[1;32mIn [11]\u001b[1;36m\u001b[0m\n\u001b[1;33m    )\u001b[0m\n\u001b[1;37m    ^\u001b[0m\n\u001b[1;31mSyntaxError\u001b[0m\u001b[1;31m:\u001b[0m positional argument follows keyword argument\n"
     ]
    }
   ],
   "source": [
    "print(type(distinct_a_values_with_blank_b))\n",
    "distinct_a_values_list = list(distinct_a_values_with_blank_b)\n",
    "print(distinct_a_values_list)"
   ]
  },
  {
   "cell_type": "code",
   "execution_count": 10,
   "id": "0cbbdc87",
   "metadata": {},
   "outputs": [],
   "source": [
    "from langchain.agents import create_pandas_dataframe_agent\n",
    "from langchain.chat_models import ChatOpenAI\n",
    "from langchain.agents.agent_types import AgentType\n",
    "from langchain.agents.agent_toolkits import create_python_agent\n",
    "from langchain.tools.python.tool import PythonREPLTool\n",
    "from langchain.python import PythonREPL\n",
    "from langchain.llms.openai import OpenAI\n",
    "\n"
   ]
  },
  {
   "cell_type": "code",
   "execution_count": 9,
   "id": "d049ad70",
   "metadata": {},
   "outputs": [
    {
     "name": "stdout",
     "output_type": "stream",
     "text": [
      "\n",
      "\n",
      "\u001b[1m> Entering new AgentExecutor chain...\u001b[0m\n",
      "\u001b[32;1m\u001b[1;3m\n",
      "Invoking: `python_repl_ast` with `{'query': \"df[df['Standard Title'].str.startswith('Standard')]['Standard Title'].head(10).tolist()\"}`\n",
      "\n",
      "\n",
      "\u001b[0m\u001b[36;1m\u001b[1;3m['Standard for Flexible Metal Conduit', 'Standard for Armored Cable', 'Standard for Surface Metal Raceways and Fittings', 'Standard for Strut-Type Channel Raceways and Fittings', 'Standard for Surface Raceways and Fittings for Use with Data, Signal, and Control Circuits', 'Standard for Electrical Rigid Metal Conduit - Aluminum and Stainless Steel', 'Standard for Fire Tests of Window Assemblies', 'Standard for Tin-Clad Fire Doors', 'Standard for Fire Tests of Door Assemblies', 'Standard for Positive Pressure Fire Tests of Door Assemblies']\u001b[0m\u001b[32;1m\u001b[1;3mThe list of the first 10 Standard Titles that start with \"Standard\" is:\n",
      "\n",
      "1. Standard for Flexible Metal Conduit\n",
      "2. Standard for Armored Cable\n",
      "3. Standard for Surface Metal Raceways and Fittings\n",
      "4. Standard for Strut-Type Channel Raceways and Fittings\n",
      "5. Standard for Surface Raceways and Fittings for Use with Data, Signal, and Control Circuits\n",
      "6. Standard for Electrical Rigid Metal Conduit - Aluminum and Stainless Steel\n",
      "7. Standard for Fire Tests of Window Assemblies\n",
      "8. Standard for Tin-Clad Fire Doors\n",
      "9. Standard for Fire Tests of Door Assemblies\n",
      "10. Standard for Positive Pressure Fire Tests of Door Assemblies\u001b[0m\n",
      "\n",
      "\u001b[1m> Finished chain.\u001b[0m\n"
     ]
    }
   ],
   "source": [
    "result = agent.run('python code to extract the list of first 10 Standard Title that starts with standard')"
   ]
  },
  {
   "cell_type": "code",
   "execution_count": 7,
   "id": "7798d5aa",
   "metadata": {},
   "outputs": [
    {
     "name": "stdout",
     "output_type": "stream",
     "text": [
      "\n",
      "\n",
      "\u001b[1m> Entering new AgentExecutor chain...\u001b[0m\n",
      "\u001b[32;1m\u001b[1;3m\n",
      "Thought: I need to search the dataset for the UL standard name related to clothes dryers\n",
      "Action: python_repl_ast\n",
      "Action Input: df[df['Standard Title'].str.contains('Clothes Dryers')]\u001b[0m\n",
      "Observation: \u001b[36;1m\u001b[1;3m               Standard Title Standard Type Standard Info Latest  \\\n",
      "1355  Electric Clothes Dryers       (Ed. 5)                   UL   \n",
      "1356  Electric Clothes Dryers       (Ed. 6)                   UL   \n",
      "\n",
      "        Edition Date Standard Infotyp  \n",
      "1355  April 06, 2018      Type: ulcsa  \n",
      "1356   July 30, 2021      Type: ulcsa  \u001b[0m\n",
      "Thought:\u001b[32;1m\u001b[1;3m I now know the final answer\n",
      "Final Answer: Electric Clothes Dryers (Ed. 5) UL April 06, 2018 Type: ulcsa\u001b[0m\n",
      "\n",
      "\u001b[1m> Finished chain.\u001b[0m\n"
     ]
    },
    {
     "data": {
      "text/plain": [
       "'Electric Clothes Dryers (Ed. 5) UL April 06, 2018 Type: ulcsa'"
      ]
     },
     "execution_count": 7,
     "metadata": {},
     "output_type": "execute_result"
    }
   ],
   "source": [
    "agent.run(prompt)"
   ]
  },
  {
   "cell_type": "code",
   "execution_count": null,
   "id": "577282be",
   "metadata": {
    "scrolled": false
   },
   "outputs": [],
   "source": []
  },
  {
   "cell_type": "code",
   "execution_count": null,
   "id": "2f4cfc96",
   "metadata": {},
   "outputs": [],
   "source": []
  }
 ],
 "metadata": {
  "kernelspec": {
   "display_name": "Python 3 (ipykernel)",
   "language": "python",
   "name": "python3"
  },
  "language_info": {
   "codemirror_mode": {
    "name": "ipython",
    "version": 3
   },
   "file_extension": ".py",
   "mimetype": "text/x-python",
   "name": "python",
   "nbconvert_exporter": "python",
   "pygments_lexer": "ipython3",
   "version": "3.10.11"
  }
 },
 "nbformat": 4,
 "nbformat_minor": 5
}
