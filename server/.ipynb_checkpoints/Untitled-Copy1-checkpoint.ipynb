{
 "cells": [
  {
   "cell_type": "code",
   "execution_count": 3,
   "id": "b52b22b9",
   "metadata": {},
   "outputs": [],
   "source": [
    "from dotenv import load_dotenv\n",
    "load_dotenv()\n",
    "import sys\n",
    "from langchain.agents import create_csv_agent\n",
    "from langchain.llms import OpenAI "
   ]
  },
  {
   "cell_type": "code",
   "execution_count": 4,
   "id": "a4a40101",
   "metadata": {},
   "outputs": [],
   "source": [
    "from langchain.memory import ConversationBufferMemory\n",
    "memory = ConversationBufferMemory(return_messages=True)"
   ]
  },
  {
   "cell_type": "code",
   "execution_count": 5,
   "id": "1310fd85",
   "metadata": {},
   "outputs": [],
   "source": [
    "agent = create_csv_agent(OpenAI(temperature=0), \n",
    "                         'personal.csv', \n",
    "                         verbose=True,\n",
    "                        memory=ConversationBufferMemory())"
   ]
  },
  {
   "cell_type": "code",
   "execution_count": 6,
   "id": "d049ad70",
   "metadata": {},
   "outputs": [],
   "source": [
    "\n",
    "question = \"\"\"\n",
    "What is the UL for Clothes Dryers?\n",
    "\"\"\"\n",
    "\n",
    "prompt = f\"\"\"\n",
    "Search the dataset for the UL standard name related to text.\n",
    "Return the entire row as it is, you dont adjust or modify the row Make sure the entire row is returned as answer excluding the row \n",
    "number start from Standard Title with proper spacing and remove unwanted chracters.\n",
    "Text: `{question}`\n",
    "\"\"\"\n"
   ]
  },
  {
   "cell_type": "code",
   "execution_count": 7,
   "id": "7798d5aa",
   "metadata": {},
   "outputs": [
    {
     "name": "stdout",
     "output_type": "stream",
     "text": [
      "\n",
      "\n",
      "\u001b[1m> Entering new AgentExecutor chain...\u001b[0m\n",
      "\u001b[32;1m\u001b[1;3m\n",
      "Thought: I need to search the dataset for the UL standard name related to clothes dryers\n",
      "Action: python_repl_ast\n",
      "Action Input: df[df['Standard Title'].str.contains('Clothes Dryers')]\u001b[0m\n",
      "Observation: \u001b[36;1m\u001b[1;3m               Standard Title Standard Type Standard Info Latest  \\\n",
      "1355  Electric Clothes Dryers       (Ed. 5)                   UL   \n",
      "1356  Electric Clothes Dryers       (Ed. 6)                   UL   \n",
      "\n",
      "        Edition Date Standard Infotyp  \n",
      "1355  April 06, 2018      Type: ulcsa  \n",
      "1356   July 30, 2021      Type: ulcsa  \u001b[0m\n",
      "Thought:\u001b[32;1m\u001b[1;3m I now know the final answer\n",
      "Final Answer: Electric Clothes Dryers (Ed. 5) UL April 06, 2018 Type: ulcsa\u001b[0m\n",
      "\n",
      "\u001b[1m> Finished chain.\u001b[0m\n"
     ]
    },
    {
     "data": {
      "text/plain": [
       "'Electric Clothes Dryers (Ed. 5) UL April 06, 2018 Type: ulcsa'"
      ]
     },
     "execution_count": 7,
     "metadata": {},
     "output_type": "execute_result"
    }
   ],
   "source": [
    "agent.run(prompt)"
   ]
  },
  {
   "cell_type": "code",
   "execution_count": null,
   "id": "577282be",
   "metadata": {
    "scrolled": false
   },
   "outputs": [],
   "source": []
  },
  {
   "cell_type": "code",
   "execution_count": null,
   "id": "2f4cfc96",
   "metadata": {},
   "outputs": [],
   "source": []
  }
 ],
 "metadata": {
  "kernelspec": {
   "display_name": "Python 3 (ipykernel)",
   "language": "python",
   "name": "python3"
  },
  "language_info": {
   "codemirror_mode": {
    "name": "ipython",
    "version": 3
   },
   "file_extension": ".py",
   "mimetype": "text/x-python",
   "name": "python",
   "nbconvert_exporter": "python",
   "pygments_lexer": "ipython3",
   "version": "3.10.11"
  }
 },
 "nbformat": 4,
 "nbformat_minor": 5
}
